{
 "metadata": {
  "language_info": {
   "codemirror_mode": {
    "name": "ipython",
    "version": 3
   },
   "file_extension": ".py",
   "mimetype": "text/x-python",
   "name": "python",
   "nbconvert_exporter": "python",
   "pygments_lexer": "ipython3",
   "version": "3.8.5-final"
  },
  "orig_nbformat": 2,
  "kernelspec": {
   "name": "python385jvsc74a57bd0f85c0ae1067a86ad6a96b144378883e79fd1516474b579ba33ee3a7084540002",
   "display_name": "Python 3.8.5 64-bit ('base': conda)"
  }
 },
 "nbformat": 4,
 "nbformat_minor": 2,
 "cells": [
  {
   "cell_type": "code",
   "execution_count": 1,
   "metadata": {},
   "outputs": [],
   "source": [
    "import numpy as np\n",
    "import pandas as pd\n",
    "from vaderSentiment.vaderSentiment import SentimentIntensityAnalyzer"
   ]
  },
  {
   "cell_type": "code",
   "execution_count": 2,
   "metadata": {},
   "outputs": [],
   "source": [
    "sid = SentimentIntensityAnalyzer()"
   ]
  },
  {
   "cell_type": "code",
   "execution_count": 1,
   "metadata": {},
   "outputs": [
    {
     "output_type": "error",
     "ename": "NameError",
     "evalue": "name 'pd' is not defined",
     "traceback": [
      "\u001b[0;31m---------------------------------------------------------------------------\u001b[0m",
      "\u001b[0;31mNameError\u001b[0m                                 Traceback (most recent call last)",
      "\u001b[0;32m<ipython-input-1-ee648432ed9c>\u001b[0m in \u001b[0;36m<module>\u001b[0;34m\u001b[0m\n\u001b[1;32m      1\u001b[0m \u001b[0mfile_path\u001b[0m \u001b[0;34m=\u001b[0m \u001b[0;34m'cleaned_posts.csv'\u001b[0m \u001b[0;31m# replace with your filepath\u001b[0m\u001b[0;34m\u001b[0m\u001b[0;34m\u001b[0m\u001b[0m\n\u001b[0;32m----> 2\u001b[0;31m \u001b[0mdf\u001b[0m \u001b[0;34m=\u001b[0m \u001b[0mpd\u001b[0m\u001b[0;34m.\u001b[0m\u001b[0mread_csv\u001b[0m\u001b[0;34m(\u001b[0m\u001b[0mfile_path\u001b[0m\u001b[0;34m)\u001b[0m\u001b[0;34m\u001b[0m\u001b[0;34m\u001b[0m\u001b[0m\n\u001b[0m\u001b[1;32m      3\u001b[0m \u001b[0mdf\u001b[0m\u001b[0;34m.\u001b[0m\u001b[0mhead\u001b[0m\u001b[0;34m(\u001b[0m\u001b[0;34m)\u001b[0m\u001b[0;34m\u001b[0m\u001b[0;34m\u001b[0m\u001b[0m\n",
      "\u001b[0;31mNameError\u001b[0m: name 'pd' is not defined"
     ]
    }
   ],
   "source": [
    "file_path = 'cleaned_posts.csv' # replace with your filepath\n",
    "df = pd.read_csv(file_path)\n",
    "df.head()"
   ]
  },
  {
   "cell_type": "code",
   "execution_count": 9,
   "metadata": {},
   "outputs": [
    {
     "output_type": "execute_result",
     "data": {
      "text/plain": [
       "1       98304\n",
       "2        2396\n",
       "0        2283\n",
       "3         587\n",
       "4         393\n",
       "        ...  \n",
       "1049        1\n",
       "3160        1\n",
       "1369        1\n",
       "2331        1\n",
       "3454        1\n",
       "Name: score, Length: 1049, dtype: int64"
      ]
     },
     "metadata": {},
     "execution_count": 9
    }
   ],
   "source": [
    "df['score'].value_counts()"
   ]
  },
  {
   "cell_type": "code",
   "execution_count": 9,
   "metadata": {},
   "outputs": [
    {
     "output_type": "execute_result",
     "data": {
      "text/plain": [
       "                author             timestamp      id  score  \\\n",
       "0              WTCwrnr  2021-03-17, 10:11:46  m75ago      1   \n",
       "1           aresvswrld  2021-03-17, 10:11:24  m75a5u      1   \n",
       "2  DoctorWonderful2816  2021-03-17, 10:04:53  m754ja      1   \n",
       "3    rawrtherapybackup  2021-03-17, 10:03:56  m753pn      1   \n",
       "4          truth_fixes  2021-03-17, 10:02:50  m752pt      1   \n",
       "\n",
       "                                                text  link_id  parent_id  \\\n",
       "0  *Processing img uzcczofdfmn61...*\\n\\nCan we he...      NaN        NaN   \n",
       "1  I currently use Robinhood, and I have been for...      NaN        NaN   \n",
       "2  So i can increase my position 4 times. \\n\\n&am...      NaN        NaN   \n",
       "3  You guys want to be able to donate $1 Million ...      NaN        NaN   \n",
       "4  I'm from Canada and have been holding BlackBer...      NaN        NaN   \n",
       "\n",
       "                                              scores  \n",
       "0  {'neg': 0.02, 'neu': 0.831, 'pos': 0.149, 'com...  \n",
       "1  {'neg': 0.048, 'neu': 0.891, 'pos': 0.061, 'co...  \n",
       "2  {'neg': 0.0, 'neu': 0.834, 'pos': 0.166, 'comp...  \n",
       "3  {'neg': 0.0, 'neu': 0.916, 'pos': 0.084, 'comp...  \n",
       "4  {'neg': 0.113, 'neu': 0.807, 'pos': 0.081, 'co...  "
      ],
      "text/html": "<div>\n<style scoped>\n    .dataframe tbody tr th:only-of-type {\n        vertical-align: middle;\n    }\n\n    .dataframe tbody tr th {\n        vertical-align: top;\n    }\n\n    .dataframe thead th {\n        text-align: right;\n    }\n</style>\n<table border=\"1\" class=\"dataframe\">\n  <thead>\n    <tr style=\"text-align: right;\">\n      <th></th>\n      <th>author</th>\n      <th>timestamp</th>\n      <th>id</th>\n      <th>score</th>\n      <th>text</th>\n      <th>link_id</th>\n      <th>parent_id</th>\n      <th>scores</th>\n    </tr>\n  </thead>\n  <tbody>\n    <tr>\n      <th>0</th>\n      <td>WTCwrnr</td>\n      <td>2021-03-17, 10:11:46</td>\n      <td>m75ago</td>\n      <td>1</td>\n      <td>*Processing img uzcczofdfmn61...*\\n\\nCan we he...</td>\n      <td>NaN</td>\n      <td>NaN</td>\n      <td>{'neg': 0.02, 'neu': 0.831, 'pos': 0.149, 'com...</td>\n    </tr>\n    <tr>\n      <th>1</th>\n      <td>aresvswrld</td>\n      <td>2021-03-17, 10:11:24</td>\n      <td>m75a5u</td>\n      <td>1</td>\n      <td>I currently use Robinhood, and I have been for...</td>\n      <td>NaN</td>\n      <td>NaN</td>\n      <td>{'neg': 0.048, 'neu': 0.891, 'pos': 0.061, 'co...</td>\n    </tr>\n    <tr>\n      <th>2</th>\n      <td>DoctorWonderful2816</td>\n      <td>2021-03-17, 10:04:53</td>\n      <td>m754ja</td>\n      <td>1</td>\n      <td>So i can increase my position 4 times. \\n\\n&amp;am...</td>\n      <td>NaN</td>\n      <td>NaN</td>\n      <td>{'neg': 0.0, 'neu': 0.834, 'pos': 0.166, 'comp...</td>\n    </tr>\n    <tr>\n      <th>3</th>\n      <td>rawrtherapybackup</td>\n      <td>2021-03-17, 10:03:56</td>\n      <td>m753pn</td>\n      <td>1</td>\n      <td>You guys want to be able to donate $1 Million ...</td>\n      <td>NaN</td>\n      <td>NaN</td>\n      <td>{'neg': 0.0, 'neu': 0.916, 'pos': 0.084, 'comp...</td>\n    </tr>\n    <tr>\n      <th>4</th>\n      <td>truth_fixes</td>\n      <td>2021-03-17, 10:02:50</td>\n      <td>m752pt</td>\n      <td>1</td>\n      <td>I'm from Canada and have been holding BlackBer...</td>\n      <td>NaN</td>\n      <td>NaN</td>\n      <td>{'neg': 0.113, 'neu': 0.807, 'pos': 0.081, 'co...</td>\n    </tr>\n  </tbody>\n</table>\n</div>"
     },
     "metadata": {},
     "execution_count": 9
    }
   ],
   "source": [
    "df['scores'] = df['text'].apply(lambda text: sid.polarity_scores(text))\n",
    "df.head()"
   ]
  },
  {
   "cell_type": "code",
   "execution_count": 10,
   "metadata": {},
   "outputs": [
    {
     "output_type": "execute_result",
     "data": {
      "text/plain": [
       "                author             timestamp      id  score  \\\n",
       "0              WTCwrnr  2021-03-17, 10:11:46  m75ago      1   \n",
       "1           aresvswrld  2021-03-17, 10:11:24  m75a5u      1   \n",
       "2  DoctorWonderful2816  2021-03-17, 10:04:53  m754ja      1   \n",
       "3    rawrtherapybackup  2021-03-17, 10:03:56  m753pn      1   \n",
       "4          truth_fixes  2021-03-17, 10:02:50  m752pt      1   \n",
       "\n",
       "                                                text  link_id  parent_id  \\\n",
       "0  *Processing img uzcczofdfmn61...*\\n\\nCan we he...      NaN        NaN   \n",
       "1  I currently use Robinhood, and I have been for...      NaN        NaN   \n",
       "2  So i can increase my position 4 times. \\n\\n&am...      NaN        NaN   \n",
       "3  You guys want to be able to donate $1 Million ...      NaN        NaN   \n",
       "4  I'm from Canada and have been holding BlackBer...      NaN        NaN   \n",
       "\n",
       "                                              scores  compound_score  \n",
       "0  {'neg': 0.02, 'neu': 0.831, 'pos': 0.149, 'com...          0.9033  \n",
       "1  {'neg': 0.048, 'neu': 0.891, 'pos': 0.061, 'co...          0.1531  \n",
       "2  {'neg': 0.0, 'neu': 0.834, 'pos': 0.166, 'comp...          0.5809  \n",
       "3  {'neg': 0.0, 'neu': 0.916, 'pos': 0.084, 'comp...          0.3400  \n",
       "4  {'neg': 0.113, 'neu': 0.807, 'pos': 0.081, 'co...         -0.3755  "
      ],
      "text/html": "<div>\n<style scoped>\n    .dataframe tbody tr th:only-of-type {\n        vertical-align: middle;\n    }\n\n    .dataframe tbody tr th {\n        vertical-align: top;\n    }\n\n    .dataframe thead th {\n        text-align: right;\n    }\n</style>\n<table border=\"1\" class=\"dataframe\">\n  <thead>\n    <tr style=\"text-align: right;\">\n      <th></th>\n      <th>author</th>\n      <th>timestamp</th>\n      <th>id</th>\n      <th>score</th>\n      <th>text</th>\n      <th>link_id</th>\n      <th>parent_id</th>\n      <th>scores</th>\n      <th>compound_score</th>\n    </tr>\n  </thead>\n  <tbody>\n    <tr>\n      <th>0</th>\n      <td>WTCwrnr</td>\n      <td>2021-03-17, 10:11:46</td>\n      <td>m75ago</td>\n      <td>1</td>\n      <td>*Processing img uzcczofdfmn61...*\\n\\nCan we he...</td>\n      <td>NaN</td>\n      <td>NaN</td>\n      <td>{'neg': 0.02, 'neu': 0.831, 'pos': 0.149, 'com...</td>\n      <td>0.9033</td>\n    </tr>\n    <tr>\n      <th>1</th>\n      <td>aresvswrld</td>\n      <td>2021-03-17, 10:11:24</td>\n      <td>m75a5u</td>\n      <td>1</td>\n      <td>I currently use Robinhood, and I have been for...</td>\n      <td>NaN</td>\n      <td>NaN</td>\n      <td>{'neg': 0.048, 'neu': 0.891, 'pos': 0.061, 'co...</td>\n      <td>0.1531</td>\n    </tr>\n    <tr>\n      <th>2</th>\n      <td>DoctorWonderful2816</td>\n      <td>2021-03-17, 10:04:53</td>\n      <td>m754ja</td>\n      <td>1</td>\n      <td>So i can increase my position 4 times. \\n\\n&amp;am...</td>\n      <td>NaN</td>\n      <td>NaN</td>\n      <td>{'neg': 0.0, 'neu': 0.834, 'pos': 0.166, 'comp...</td>\n      <td>0.5809</td>\n    </tr>\n    <tr>\n      <th>3</th>\n      <td>rawrtherapybackup</td>\n      <td>2021-03-17, 10:03:56</td>\n      <td>m753pn</td>\n      <td>1</td>\n      <td>You guys want to be able to donate $1 Million ...</td>\n      <td>NaN</td>\n      <td>NaN</td>\n      <td>{'neg': 0.0, 'neu': 0.916, 'pos': 0.084, 'comp...</td>\n      <td>0.3400</td>\n    </tr>\n    <tr>\n      <th>4</th>\n      <td>truth_fixes</td>\n      <td>2021-03-17, 10:02:50</td>\n      <td>m752pt</td>\n      <td>1</td>\n      <td>I'm from Canada and have been holding BlackBer...</td>\n      <td>NaN</td>\n      <td>NaN</td>\n      <td>{'neg': 0.113, 'neu': 0.807, 'pos': 0.081, 'co...</td>\n      <td>-0.3755</td>\n    </tr>\n  </tbody>\n</table>\n</div>"
     },
     "metadata": {},
     "execution_count": 10
    }
   ],
   "source": [
    "df['compound_score']  = df['scores'].apply(lambda score: score['compound'])\n",
    "df.head()"
   ]
  },
  {
   "cell_type": "code",
   "execution_count": 11,
   "metadata": {},
   "outputs": [
    {
     "output_type": "execute_result",
     "data": {
      "text/plain": [
       "                author             timestamp      id  score  \\\n",
       "0              WTCwrnr  2021-03-17, 10:11:46  m75ago      1   \n",
       "1           aresvswrld  2021-03-17, 10:11:24  m75a5u      1   \n",
       "2  DoctorWonderful2816  2021-03-17, 10:04:53  m754ja      1   \n",
       "3    rawrtherapybackup  2021-03-17, 10:03:56  m753pn      1   \n",
       "4          truth_fixes  2021-03-17, 10:02:50  m752pt      1   \n",
       "\n",
       "                                                text  link_id  parent_id  \\\n",
       "0  *Processing img uzcczofdfmn61...*\\n\\nCan we he...      NaN        NaN   \n",
       "1  I currently use Robinhood, and I have been for...      NaN        NaN   \n",
       "2  So i can increase my position 4 times. \\n\\n&am...      NaN        NaN   \n",
       "3  You guys want to be able to donate $1 Million ...      NaN        NaN   \n",
       "4  I'm from Canada and have been holding BlackBer...      NaN        NaN   \n",
       "\n",
       "                                              scores  compound_score sentiment  \n",
       "0  {'neg': 0.02, 'neu': 0.831, 'pos': 0.149, 'com...          0.9033       pos  \n",
       "1  {'neg': 0.048, 'neu': 0.891, 'pos': 0.061, 'co...          0.1531       pos  \n",
       "2  {'neg': 0.0, 'neu': 0.834, 'pos': 0.166, 'comp...          0.5809       pos  \n",
       "3  {'neg': 0.0, 'neu': 0.916, 'pos': 0.084, 'comp...          0.3400       pos  \n",
       "4  {'neg': 0.113, 'neu': 0.807, 'pos': 0.081, 'co...         -0.3755       neg  "
      ],
      "text/html": "<div>\n<style scoped>\n    .dataframe tbody tr th:only-of-type {\n        vertical-align: middle;\n    }\n\n    .dataframe tbody tr th {\n        vertical-align: top;\n    }\n\n    .dataframe thead th {\n        text-align: right;\n    }\n</style>\n<table border=\"1\" class=\"dataframe\">\n  <thead>\n    <tr style=\"text-align: right;\">\n      <th></th>\n      <th>author</th>\n      <th>timestamp</th>\n      <th>id</th>\n      <th>score</th>\n      <th>text</th>\n      <th>link_id</th>\n      <th>parent_id</th>\n      <th>scores</th>\n      <th>compound_score</th>\n      <th>sentiment</th>\n    </tr>\n  </thead>\n  <tbody>\n    <tr>\n      <th>0</th>\n      <td>WTCwrnr</td>\n      <td>2021-03-17, 10:11:46</td>\n      <td>m75ago</td>\n      <td>1</td>\n      <td>*Processing img uzcczofdfmn61...*\\n\\nCan we he...</td>\n      <td>NaN</td>\n      <td>NaN</td>\n      <td>{'neg': 0.02, 'neu': 0.831, 'pos': 0.149, 'com...</td>\n      <td>0.9033</td>\n      <td>pos</td>\n    </tr>\n    <tr>\n      <th>1</th>\n      <td>aresvswrld</td>\n      <td>2021-03-17, 10:11:24</td>\n      <td>m75a5u</td>\n      <td>1</td>\n      <td>I currently use Robinhood, and I have been for...</td>\n      <td>NaN</td>\n      <td>NaN</td>\n      <td>{'neg': 0.048, 'neu': 0.891, 'pos': 0.061, 'co...</td>\n      <td>0.1531</td>\n      <td>pos</td>\n    </tr>\n    <tr>\n      <th>2</th>\n      <td>DoctorWonderful2816</td>\n      <td>2021-03-17, 10:04:53</td>\n      <td>m754ja</td>\n      <td>1</td>\n      <td>So i can increase my position 4 times. \\n\\n&amp;am...</td>\n      <td>NaN</td>\n      <td>NaN</td>\n      <td>{'neg': 0.0, 'neu': 0.834, 'pos': 0.166, 'comp...</td>\n      <td>0.5809</td>\n      <td>pos</td>\n    </tr>\n    <tr>\n      <th>3</th>\n      <td>rawrtherapybackup</td>\n      <td>2021-03-17, 10:03:56</td>\n      <td>m753pn</td>\n      <td>1</td>\n      <td>You guys want to be able to donate $1 Million ...</td>\n      <td>NaN</td>\n      <td>NaN</td>\n      <td>{'neg': 0.0, 'neu': 0.916, 'pos': 0.084, 'comp...</td>\n      <td>0.3400</td>\n      <td>pos</td>\n    </tr>\n    <tr>\n      <th>4</th>\n      <td>truth_fixes</td>\n      <td>2021-03-17, 10:02:50</td>\n      <td>m752pt</td>\n      <td>1</td>\n      <td>I'm from Canada and have been holding BlackBer...</td>\n      <td>NaN</td>\n      <td>NaN</td>\n      <td>{'neg': 0.113, 'neu': 0.807, 'pos': 0.081, 'co...</td>\n      <td>-0.3755</td>\n      <td>neg</td>\n    </tr>\n  </tbody>\n</table>\n</div>"
     },
     "metadata": {},
     "execution_count": 11
    }
   ],
   "source": [
    "df['sentiment'] = df['compound_score'].apply(lambda score: 'pos' if score > 0 else ('neg' if score < 0 else 'neutral'))\n",
    "df.head()"
   ]
  },
  {
   "cell_type": "code",
   "execution_count": 13,
   "metadata": {},
   "outputs": [],
   "source": [
    "df = df.drop(['link_id', 'parent_id'], axis=1)"
   ]
  },
  {
   "cell_type": "code",
   "execution_count": 14,
   "metadata": {},
   "outputs": [
    {
     "output_type": "execute_result",
     "data": {
      "text/plain": [
       "(111600, 8)"
      ]
     },
     "metadata": {},
     "execution_count": 14
    }
   ],
   "source": [
    "df.shape"
   ]
  },
  {
   "cell_type": "code",
   "execution_count": 15,
   "metadata": {},
   "outputs": [],
   "source": [
    "df.to_csv('posts_with_scores.csv', index=False)"
   ]
  },
  {
   "cell_type": "code",
   "execution_count": 16,
   "metadata": {},
   "outputs": [
    {
     "output_type": "execute_result",
     "data": {
      "text/plain": [
       "pos        57052\n",
       "neg        31174\n",
       "neutral    23374\n",
       "Name: sentiment, dtype: int64"
      ]
     },
     "metadata": {},
     "execution_count": 16
    }
   ],
   "source": [
    "analyzed = pd.read_csv('posts_with_scores.csv')\n",
    "analyzed['sentiment'].value_counts()"
   ]
  },
  {
   "cell_type": "code",
   "execution_count": 3,
   "metadata": {},
   "outputs": [
    {
     "output_type": "execute_result",
     "data": {
      "text/plain": [
       "                author             timestamp      id  score  \\\n",
       "10           RCBroeker  2021-03-17, 09:53:08  m74um1      1   \n",
       "14          Eye-pooper  2021-03-17, 09:48:37  m74qwb      1   \n",
       "16        LeftoverKing  2021-03-17, 09:45:51  m74omr      1   \n",
       "26         Snowy90L322  2021-03-17, 09:33:28  m74enn      1   \n",
       "28            Platon_A  2021-03-17, 09:31:48  m74da6      1   \n",
       "...                ...                   ...     ...    ...   \n",
       "111306  LavenderAutist  2020-08-16, 23:34:28  ib902f      1   \n",
       "111370  platinumsombro  2020-08-16, 13:25:41  iazp38      1   \n",
       "111502   ImpressiveBus  2020-08-15, 14:08:53  iafhwj      1   \n",
       "111503   ImpressiveBus  2020-08-15, 14:01:21  iafd4l      1   \n",
       "111515  I_love_boobs86  2020-08-15, 12:11:58  iadfkb      1   \n",
       "\n",
       "                                                     text  link_id  parent_id  \\\n",
       "10      &amp;#x200B;\\n\\nhttps://preview.redd.it/d0gvzl...      NaN        NaN   \n",
       "14      Last I checked, way back in beginning of Febru...      NaN        NaN   \n",
       "16                                             Headline..      NaN        NaN   \n",
       "26      &amp;#x200B;\\n\\nhttps://preview.redd.it/yr0sfr...      NaN        NaN   \n",
       "28      https://preview.redd.it/sdllwaj58mn61.png?widt...      NaN        NaN   \n",
       "...                                                   ...      ...        ...   \n",
       "111306  https://www.barrons.com/amp/articles/time-to-b...      NaN        NaN   \n",
       "111370  There’s gotta be something out there that’s a ...      NaN        NaN   \n",
       "111502            &amp;#x200B;\\n\\n![video](acti2fgie8h51)      NaN        NaN   \n",
       "111503  &amp;#x200B;\\n\\n*Processing video gstz8sz1d8h5...      NaN        NaN   \n",
       "111515  Fannie and Freddie Mac announced a new 0.5% fe...      NaN        NaN   \n",
       "\n",
       "                                                   scores  compound_score  \\\n",
       "10      {'neg': 0.0, 'neu': 1.0, 'pos': 0.0, 'compound...             0.0   \n",
       "14      {'neg': 0.0, 'neu': 1.0, 'pos': 0.0, 'compound...             0.0   \n",
       "16      {'neg': 0.0, 'neu': 1.0, 'pos': 0.0, 'compound...             0.0   \n",
       "26      {'neg': 0.0, 'neu': 1.0, 'pos': 0.0, 'compound...             0.0   \n",
       "28      {'neg': 0.0, 'neu': 1.0, 'pos': 0.0, 'compound...             0.0   \n",
       "...                                                   ...             ...   \n",
       "111306  {'neg': 0.0, 'neu': 1.0, 'pos': 0.0, 'compound...             0.0   \n",
       "111370  {'neg': 0.0, 'neu': 1.0, 'pos': 0.0, 'compound...             0.0   \n",
       "111502  {'neg': 0.0, 'neu': 1.0, 'pos': 0.0, 'compound...             0.0   \n",
       "111503  {'neg': 0.0, 'neu': 1.0, 'pos': 0.0, 'compound...             0.0   \n",
       "111515  {'neg': 0.0, 'neu': 1.0, 'pos': 0.0, 'compound...             0.0   \n",
       "\n",
       "       sentiment  \n",
       "10           pos  \n",
       "14           pos  \n",
       "16           pos  \n",
       "26           pos  \n",
       "28           pos  \n",
       "...          ...  \n",
       "111306       pos  \n",
       "111370       pos  \n",
       "111502       pos  \n",
       "111503       pos  \n",
       "111515       pos  \n",
       "\n",
       "[23374 rows x 10 columns]"
      ],
      "text/html": "<div>\n<style scoped>\n    .dataframe tbody tr th:only-of-type {\n        vertical-align: middle;\n    }\n\n    .dataframe tbody tr th {\n        vertical-align: top;\n    }\n\n    .dataframe thead th {\n        text-align: right;\n    }\n</style>\n<table border=\"1\" class=\"dataframe\">\n  <thead>\n    <tr style=\"text-align: right;\">\n      <th></th>\n      <th>author</th>\n      <th>timestamp</th>\n      <th>id</th>\n      <th>score</th>\n      <th>text</th>\n      <th>link_id</th>\n      <th>parent_id</th>\n      <th>scores</th>\n      <th>compound_score</th>\n      <th>sentiment</th>\n    </tr>\n  </thead>\n  <tbody>\n    <tr>\n      <th>10</th>\n      <td>RCBroeker</td>\n      <td>2021-03-17, 09:53:08</td>\n      <td>m74um1</td>\n      <td>1</td>\n      <td>&amp;amp;#x200B;\\n\\nhttps://preview.redd.it/d0gvzl...</td>\n      <td>NaN</td>\n      <td>NaN</td>\n      <td>{'neg': 0.0, 'neu': 1.0, 'pos': 0.0, 'compound...</td>\n      <td>0.0</td>\n      <td>pos</td>\n    </tr>\n    <tr>\n      <th>14</th>\n      <td>Eye-pooper</td>\n      <td>2021-03-17, 09:48:37</td>\n      <td>m74qwb</td>\n      <td>1</td>\n      <td>Last I checked, way back in beginning of Febru...</td>\n      <td>NaN</td>\n      <td>NaN</td>\n      <td>{'neg': 0.0, 'neu': 1.0, 'pos': 0.0, 'compound...</td>\n      <td>0.0</td>\n      <td>pos</td>\n    </tr>\n    <tr>\n      <th>16</th>\n      <td>LeftoverKing</td>\n      <td>2021-03-17, 09:45:51</td>\n      <td>m74omr</td>\n      <td>1</td>\n      <td>Headline..</td>\n      <td>NaN</td>\n      <td>NaN</td>\n      <td>{'neg': 0.0, 'neu': 1.0, 'pos': 0.0, 'compound...</td>\n      <td>0.0</td>\n      <td>pos</td>\n    </tr>\n    <tr>\n      <th>26</th>\n      <td>Snowy90L322</td>\n      <td>2021-03-17, 09:33:28</td>\n      <td>m74enn</td>\n      <td>1</td>\n      <td>&amp;amp;#x200B;\\n\\nhttps://preview.redd.it/yr0sfr...</td>\n      <td>NaN</td>\n      <td>NaN</td>\n      <td>{'neg': 0.0, 'neu': 1.0, 'pos': 0.0, 'compound...</td>\n      <td>0.0</td>\n      <td>pos</td>\n    </tr>\n    <tr>\n      <th>28</th>\n      <td>Platon_A</td>\n      <td>2021-03-17, 09:31:48</td>\n      <td>m74da6</td>\n      <td>1</td>\n      <td>https://preview.redd.it/sdllwaj58mn61.png?widt...</td>\n      <td>NaN</td>\n      <td>NaN</td>\n      <td>{'neg': 0.0, 'neu': 1.0, 'pos': 0.0, 'compound...</td>\n      <td>0.0</td>\n      <td>pos</td>\n    </tr>\n    <tr>\n      <th>...</th>\n      <td>...</td>\n      <td>...</td>\n      <td>...</td>\n      <td>...</td>\n      <td>...</td>\n      <td>...</td>\n      <td>...</td>\n      <td>...</td>\n      <td>...</td>\n      <td>...</td>\n    </tr>\n    <tr>\n      <th>111306</th>\n      <td>LavenderAutist</td>\n      <td>2020-08-16, 23:34:28</td>\n      <td>ib902f</td>\n      <td>1</td>\n      <td>https://www.barrons.com/amp/articles/time-to-b...</td>\n      <td>NaN</td>\n      <td>NaN</td>\n      <td>{'neg': 0.0, 'neu': 1.0, 'pos': 0.0, 'compound...</td>\n      <td>0.0</td>\n      <td>pos</td>\n    </tr>\n    <tr>\n      <th>111370</th>\n      <td>platinumsombro</td>\n      <td>2020-08-16, 13:25:41</td>\n      <td>iazp38</td>\n      <td>1</td>\n      <td>There’s gotta be something out there that’s a ...</td>\n      <td>NaN</td>\n      <td>NaN</td>\n      <td>{'neg': 0.0, 'neu': 1.0, 'pos': 0.0, 'compound...</td>\n      <td>0.0</td>\n      <td>pos</td>\n    </tr>\n    <tr>\n      <th>111502</th>\n      <td>ImpressiveBus</td>\n      <td>2020-08-15, 14:08:53</td>\n      <td>iafhwj</td>\n      <td>1</td>\n      <td>&amp;amp;#x200B;\\n\\n![video](acti2fgie8h51)</td>\n      <td>NaN</td>\n      <td>NaN</td>\n      <td>{'neg': 0.0, 'neu': 1.0, 'pos': 0.0, 'compound...</td>\n      <td>0.0</td>\n      <td>pos</td>\n    </tr>\n    <tr>\n      <th>111503</th>\n      <td>ImpressiveBus</td>\n      <td>2020-08-15, 14:01:21</td>\n      <td>iafd4l</td>\n      <td>1</td>\n      <td>&amp;amp;#x200B;\\n\\n*Processing video gstz8sz1d8h5...</td>\n      <td>NaN</td>\n      <td>NaN</td>\n      <td>{'neg': 0.0, 'neu': 1.0, 'pos': 0.0, 'compound...</td>\n      <td>0.0</td>\n      <td>pos</td>\n    </tr>\n    <tr>\n      <th>111515</th>\n      <td>I_love_boobs86</td>\n      <td>2020-08-15, 12:11:58</td>\n      <td>iadfkb</td>\n      <td>1</td>\n      <td>Fannie and Freddie Mac announced a new 0.5% fe...</td>\n      <td>NaN</td>\n      <td>NaN</td>\n      <td>{'neg': 0.0, 'neu': 1.0, 'pos': 0.0, 'compound...</td>\n      <td>0.0</td>\n      <td>pos</td>\n    </tr>\n  </tbody>\n</table>\n<p>23374 rows × 10 columns</p>\n</div>"
     },
     "metadata": {},
     "execution_count": 3
    }
   ],
   "source": [
    "analyzed[analyzed['compound_score'] == 0]"
   ]
  }
 ]
}