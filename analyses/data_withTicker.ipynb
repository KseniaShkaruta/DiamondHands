{
 "cells": [
  {
   "cell_type": "code",
   "execution_count": 1,
   "metadata": {},
   "outputs": [],
   "source": [
    "import pyspark\n",
    "from pyspark.sql import SQLContext\n",
    "from pyspark.sql.functions import lit\n",
    "from pyspark.sql.functions import col"
   ]
  },
  {
   "cell_type": "code",
   "execution_count": 2,
   "metadata": {},
   "outputs": [],
   "source": [
    "sc = pyspark.SparkContext(appName=\"Group Project\")\n",
    "sqlContext = SQLContext(sc)"
   ]
  },
  {
   "cell_type": "code",
   "execution_count": 412,
   "metadata": {},
   "outputs": [],
   "source": [
    "def load_data():\n",
    "    data = sqlContext.read.option(\"header\",True).options(mode='FAILFAST', multiLine=True, escape='\"').option(\"inferSchema\", \"true\").csv('posts_with_scores.csv')\n",
    "    return data"
   ]
  },
  {
   "cell_type": "code",
   "execution_count": 413,
   "metadata": {},
   "outputs": [],
   "source": [
    "data = load_data()\n",
    "# print(data.count())\n",
    "# data = data.withColumn(\"test\", lit(\"$BB asdfasfdfjklsdf\"))\n",
    "data = data.withColumn(\"AMC\", col(\"text\").rlike(\"\\\\b(?i)amc\\\\b|\\\\b(#|$)(?i)amc\\\\b\"))\n",
    "data = data.withColumn(\"NAKD\", col(\"text\").rlike(\"(?i)Naked|\\\\b(?i)nakd\\\\b|\\\\b(#|$)(?i)nakd\\\\b\"))\n",
    "data = data.withColumn(\"BB\", col(\"text\").rlike(\"(?i)blackberry|\\\\b(?i)bb\\\\b|\\\\b(#|$)(?i)bb\\\\b\"))\n",
    "data = data.withColumn(\"GME\", col(\"text\").rlike(\"(?i)gamestop|\\\\b(?i)gme\\\\b|\\\\b(#|$)(?i)gme\\\\b\"))\n",
    "data = data.withColumn(\"KOSS\", col(\"text\").rlike(\"\\\\b(?i)koss\\\\b|\\\\b(#|$)(?i)koss\\\\b\"))\n",
    "# data.show()\n",
    "\n",
    "data.write.format(\"com.databricks.spark.csv\")\\\n",
    "   .option(\"header\", \"true\")\\\n",
    "   .options(mode='FAILFAST', multiLine=True, escape='\"').option(\"inferSchema\", \"true\")\\\n",
    "   .save(\"posts_with_scores_and_ticker\")"
   ]
  },
  {
   "cell_type": "code",
   "execution_count": 411,
   "metadata": {
    "pycharm": {
     "name": "#%%\n"
    }
   },
   "outputs": [
    {
     "name": "stdout",
     "output_type": "stream",
     "text": [
      "24213\n",
      "+--------------------+\n",
      "|                text|\n",
      "+--------------------+\n",
      "|I currently use R...|\n",
      "|**Short Interest ...|\n",
      "|Do you all lack p...|\n",
      "|I miss the old Ga...|\n",
      "|Hello there, fell...|\n",
      "|My portfolio is s...|\n",
      "|Instead of invest...|\n",
      "|Just got my stimm...|\n",
      "|During the GameSt...|\n",
      "|EDIT:\n",
      "\n",
      "OK, so, re...|\n",
      "|Got a few of my h...|\n",
      "|For 10,000 shares...|\n",
      "|I’m holding this ...|\n",
      "|!!! This thread i...|\n",
      "|Gme is on cash ap...|\n",
      "|Top of the mornin...|\n",
      "|I have no positio...|\n",
      "|If AMC and GME co...|\n",
      "|What's the opposi...|\n",
      "|What's the opposi...|\n",
      "+--------------------+\n",
      "only showing top 20 rows\n",
      "\n",
      "root\n",
      " |-- author: string (nullable = true)\n",
      " |-- timestamp: string (nullable = true)\n",
      " |-- id: string (nullable = true)\n",
      " |-- score: integer (nullable = true)\n",
      " |-- text: string (nullable = true)\n",
      " |-- scores: string (nullable = true)\n",
      " |-- compound_score: double (nullable = true)\n",
      " |-- sentiment: string (nullable = true)\n",
      " |-- AMC: boolean (nullable = true)\n",
      " |-- NAKD: boolean (nullable = true)\n",
      " |-- BB: boolean (nullable = true)\n",
      " |-- GME: boolean (nullable = true)\n",
      " |-- KOSS: boolean (nullable = true)\n",
      "\n"
     ]
    }
   ],
   "source": [
    "# data.createOrReplaceTempView(\"DATA\")\n",
    "# selected_data = sqlContext.sql(\n",
    "# \"\"\"\n",
    "# SELECT text FROM DATA WHERE GME=true\n",
    "# \"\"\")\n",
    "\n",
    "# print(selected_data.count())\n",
    "# selected_data.show()\n",
    "# selected_data.write.format(\"com.databricks.spark.csv\")\\\n",
    "#    .option(\"header\", \"true\")\\\n",
    "#    .options(mode='FAILFAST', multiLine=True, escape='\"').option(\"inferSchema\", \"true\")\\\n",
    "#    .save(\"selected_data\")\n",
    "    \n",
    "# data.printSchema()\n",
    "\n",
    "\n"
   ]
  }
 ],
 "metadata": {
  "kernelspec": {
   "display_name": "Python 3",
   "language": "python",
   "name": "python3"
  },
  "language_info": {
   "codemirror_mode": {
    "name": "ipython",
    "version": 3
   },
   "file_extension": ".py",
   "mimetype": "text/x-python",
   "name": "python",
   "nbconvert_exporter": "python",
   "pygments_lexer": "ipython3",
   "version": "3.6.9"
  }
 },
 "nbformat": 4,
 "nbformat_minor": 2
}