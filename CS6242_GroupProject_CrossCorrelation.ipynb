{
 "cells": [
  {
   "cell_type": "code",
   "execution_count": 1,
   "metadata": {},
   "outputs": [],
   "source": [
    "import pandas as pd"
   ]
  },
  {
   "cell_type": "code",
   "execution_count": 2,
   "metadata": {},
   "outputs": [],
   "source": [
    "df_stocks = pd.read_csv('TJstockdata.csv')"
   ]
  },
  {
   "cell_type": "code",
   "execution_count": 4,
   "metadata": {},
   "outputs": [
    {
     "data": {
      "text/html": [
       "<div>\n",
       "<style scoped>\n",
       "    .dataframe tbody tr th:only-of-type {\n",
       "        vertical-align: middle;\n",
       "    }\n",
       "\n",
       "    .dataframe tbody tr th {\n",
       "        vertical-align: top;\n",
       "    }\n",
       "\n",
       "    .dataframe thead th {\n",
       "        text-align: right;\n",
       "    }\n",
       "</style>\n",
       "<table border=\"1\" class=\"dataframe\">\n",
       "  <thead>\n",
       "    <tr style=\"text-align: right;\">\n",
       "      <th></th>\n",
       "      <th>Stock</th>\n",
       "      <th>Date</th>\n",
       "      <th>Open</th>\n",
       "      <th>High</th>\n",
       "      <th>Low</th>\n",
       "      <th>Close</th>\n",
       "      <th>Volume</th>\n",
       "      <th>Adjusted</th>\n",
       "    </tr>\n",
       "  </thead>\n",
       "  <tbody>\n",
       "    <tr>\n",
       "      <th>0</th>\n",
       "      <td>AMZN</td>\n",
       "      <td>4/24/2020</td>\n",
       "      <td>2417.000000</td>\n",
       "      <td>2420.429932</td>\n",
       "      <td>2382.00000</td>\n",
       "      <td>2410.219971</td>\n",
       "      <td>3831800</td>\n",
       "      <td>2410.219971</td>\n",
       "    </tr>\n",
       "    <tr>\n",
       "      <th>1</th>\n",
       "      <td>AMZN</td>\n",
       "      <td>4/27/2020</td>\n",
       "      <td>2443.199951</td>\n",
       "      <td>2444.879883</td>\n",
       "      <td>2363.00000</td>\n",
       "      <td>2376.000000</td>\n",
       "      <td>5645600</td>\n",
       "      <td>2376.000000</td>\n",
       "    </tr>\n",
       "    <tr>\n",
       "      <th>2</th>\n",
       "      <td>AMZN</td>\n",
       "      <td>4/28/2020</td>\n",
       "      <td>2372.100098</td>\n",
       "      <td>2373.500000</td>\n",
       "      <td>2306.00000</td>\n",
       "      <td>2314.080078</td>\n",
       "      <td>5269400</td>\n",
       "      <td>2314.080078</td>\n",
       "    </tr>\n",
       "    <tr>\n",
       "      <th>3</th>\n",
       "      <td>AMZN</td>\n",
       "      <td>4/29/2020</td>\n",
       "      <td>2330.010010</td>\n",
       "      <td>2391.889893</td>\n",
       "      <td>2310.00000</td>\n",
       "      <td>2372.709961</td>\n",
       "      <td>4591600</td>\n",
       "      <td>2372.709961</td>\n",
       "    </tr>\n",
       "    <tr>\n",
       "      <th>4</th>\n",
       "      <td>AMZN</td>\n",
       "      <td>4/30/2020</td>\n",
       "      <td>2419.840088</td>\n",
       "      <td>2475.000000</td>\n",
       "      <td>2396.01001</td>\n",
       "      <td>2474.000000</td>\n",
       "      <td>9534600</td>\n",
       "      <td>2474.000000</td>\n",
       "    </tr>\n",
       "  </tbody>\n",
       "</table>\n",
       "</div>"
      ],
      "text/plain": [
       "  Stock       Date         Open         High         Low        Close  \\\n",
       "0  AMZN  4/24/2020  2417.000000  2420.429932  2382.00000  2410.219971   \n",
       "1  AMZN  4/27/2020  2443.199951  2444.879883  2363.00000  2376.000000   \n",
       "2  AMZN  4/28/2020  2372.100098  2373.500000  2306.00000  2314.080078   \n",
       "3  AMZN  4/29/2020  2330.010010  2391.889893  2310.00000  2372.709961   \n",
       "4  AMZN  4/30/2020  2419.840088  2475.000000  2396.01001  2474.000000   \n",
       "\n",
       "    Volume     Adjusted  \n",
       "0  3831800  2410.219971  \n",
       "1  5645600  2376.000000  \n",
       "2  5269400  2314.080078  \n",
       "3  4591600  2372.709961  \n",
       "4  9534600  2474.000000  "
      ]
     },
     "execution_count": 4,
     "metadata": {},
     "output_type": "execute_result"
    }
   ],
   "source": [
    "df_stocks.head()"
   ]
  }
 ],
 "metadata": {
  "kernelspec": {
   "display_name": "Python 3",
   "language": "python",
   "name": "python3"
  },
  "language_info": {
   "codemirror_mode": {
    "name": "ipython",
    "version": 3
   },
   "file_extension": ".py",
   "mimetype": "text/x-python",
   "name": "python",
   "nbconvert_exporter": "python",
   "pygments_lexer": "ipython3",
   "version": "3.7.3"
  }
 },
 "nbformat": 4,
 "nbformat_minor": 4
}
