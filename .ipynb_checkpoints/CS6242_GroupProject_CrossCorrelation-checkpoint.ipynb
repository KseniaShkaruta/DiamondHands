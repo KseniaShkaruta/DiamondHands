{
 "cells": [
  {
   "cell_type": "code",
   "execution_count": 1,
   "metadata": {},
   "outputs": [],
   "source": [
    "import pandas as pd\n",
    "import numpy as np\n",
    "from matplotlib import pyplot"
   ]
  },
  {
   "cell_type": "markdown",
   "metadata": {},
   "source": [
    "## Explore Stock Data"
   ]
  },
  {
   "cell_type": "code",
   "execution_count": 2,
   "metadata": {},
   "outputs": [],
   "source": [
    "#load csv into dataframe\n",
    "df_stocks = pd.read_csv('TJstockdata.csv')"
   ]
  },
  {
   "cell_type": "code",
   "execution_count": 3,
   "metadata": {},
   "outputs": [
    {
     "data": {
      "text/plain": [
       "(1729, 8)"
      ]
     },
     "execution_count": 3,
     "metadata": {},
     "output_type": "execute_result"
    }
   ],
   "source": [
    "df_stocks.shape"
   ]
  },
  {
   "cell_type": "code",
   "execution_count": 4,
   "metadata": {},
   "outputs": [
    {
     "data": {
      "text/plain": [
       "Stock        object\n",
       "Date         object\n",
       "Open        float64\n",
       "High        float64\n",
       "Low         float64\n",
       "Close       float64\n",
       "Volume        int64\n",
       "Adjusted    float64\n",
       "dtype: object"
      ]
     },
     "execution_count": 4,
     "metadata": {},
     "output_type": "execute_result"
    }
   ],
   "source": [
    "df_stocks.dtypes"
   ]
  },
  {
   "cell_type": "code",
   "execution_count": 5,
   "metadata": {},
   "outputs": [
    {
     "data": {
      "text/html": [
       "<div>\n",
       "<style scoped>\n",
       "    .dataframe tbody tr th:only-of-type {\n",
       "        vertical-align: middle;\n",
       "    }\n",
       "\n",
       "    .dataframe tbody tr th {\n",
       "        vertical-align: top;\n",
       "    }\n",
       "\n",
       "    .dataframe thead th {\n",
       "        text-align: right;\n",
       "    }\n",
       "</style>\n",
       "<table border=\"1\" class=\"dataframe\">\n",
       "  <thead>\n",
       "    <tr style=\"text-align: right;\">\n",
       "      <th></th>\n",
       "      <th>Stock</th>\n",
       "      <th>Date</th>\n",
       "      <th>Open</th>\n",
       "      <th>High</th>\n",
       "      <th>Low</th>\n",
       "      <th>Close</th>\n",
       "      <th>Volume</th>\n",
       "      <th>Adjusted</th>\n",
       "    </tr>\n",
       "  </thead>\n",
       "  <tbody>\n",
       "    <tr>\n",
       "      <th>0</th>\n",
       "      <td>AMZN</td>\n",
       "      <td>4/24/2020</td>\n",
       "      <td>2417.000000</td>\n",
       "      <td>2420.429932</td>\n",
       "      <td>2382.00000</td>\n",
       "      <td>2410.219971</td>\n",
       "      <td>3831800</td>\n",
       "      <td>2410.219971</td>\n",
       "    </tr>\n",
       "    <tr>\n",
       "      <th>1</th>\n",
       "      <td>AMZN</td>\n",
       "      <td>4/27/2020</td>\n",
       "      <td>2443.199951</td>\n",
       "      <td>2444.879883</td>\n",
       "      <td>2363.00000</td>\n",
       "      <td>2376.000000</td>\n",
       "      <td>5645600</td>\n",
       "      <td>2376.000000</td>\n",
       "    </tr>\n",
       "    <tr>\n",
       "      <th>2</th>\n",
       "      <td>AMZN</td>\n",
       "      <td>4/28/2020</td>\n",
       "      <td>2372.100098</td>\n",
       "      <td>2373.500000</td>\n",
       "      <td>2306.00000</td>\n",
       "      <td>2314.080078</td>\n",
       "      <td>5269400</td>\n",
       "      <td>2314.080078</td>\n",
       "    </tr>\n",
       "    <tr>\n",
       "      <th>3</th>\n",
       "      <td>AMZN</td>\n",
       "      <td>4/29/2020</td>\n",
       "      <td>2330.010010</td>\n",
       "      <td>2391.889893</td>\n",
       "      <td>2310.00000</td>\n",
       "      <td>2372.709961</td>\n",
       "      <td>4591600</td>\n",
       "      <td>2372.709961</td>\n",
       "    </tr>\n",
       "    <tr>\n",
       "      <th>4</th>\n",
       "      <td>AMZN</td>\n",
       "      <td>4/30/2020</td>\n",
       "      <td>2419.840088</td>\n",
       "      <td>2475.000000</td>\n",
       "      <td>2396.01001</td>\n",
       "      <td>2474.000000</td>\n",
       "      <td>9534600</td>\n",
       "      <td>2474.000000</td>\n",
       "    </tr>\n",
       "  </tbody>\n",
       "</table>\n",
       "</div>"
      ],
      "text/plain": [
       "  Stock       Date         Open         High         Low        Close  \\\n",
       "0  AMZN  4/24/2020  2417.000000  2420.429932  2382.00000  2410.219971   \n",
       "1  AMZN  4/27/2020  2443.199951  2444.879883  2363.00000  2376.000000   \n",
       "2  AMZN  4/28/2020  2372.100098  2373.500000  2306.00000  2314.080078   \n",
       "3  AMZN  4/29/2020  2330.010010  2391.889893  2310.00000  2372.709961   \n",
       "4  AMZN  4/30/2020  2419.840088  2475.000000  2396.01001  2474.000000   \n",
       "\n",
       "    Volume     Adjusted  \n",
       "0  3831800  2410.219971  \n",
       "1  5645600  2376.000000  \n",
       "2  5269400  2314.080078  \n",
       "3  4591600  2372.709961  \n",
       "4  9534600  2474.000000  "
      ]
     },
     "execution_count": 5,
     "metadata": {},
     "output_type": "execute_result"
    }
   ],
   "source": [
    "df_stocks.head()"
   ]
  },
  {
   "cell_type": "code",
   "execution_count": 6,
   "metadata": {},
   "outputs": [],
   "source": [
    " # convert object into date time\n",
    "df_stocks ['Date'] = pd.to_datetime(df_stocks ['Date'] , errors='coerce')"
   ]
  },
  {
   "cell_type": "code",
   "execution_count": 7,
   "metadata": {},
   "outputs": [],
   "source": [
    "# save only date from the date time\n",
    "df_stocks['Date'] = df_stocks['Date'].dt.date"
   ]
  },
  {
   "cell_type": "code",
   "execution_count": 8,
   "metadata": {},
   "outputs": [
    {
     "data": {
      "text/plain": [
       "datetime.date(2020, 4, 24)"
      ]
     },
     "execution_count": 8,
     "metadata": {},
     "output_type": "execute_result"
    }
   ],
   "source": [
    "min(df_stocks['Date'])"
   ]
  },
  {
   "cell_type": "code",
   "execution_count": 9,
   "metadata": {},
   "outputs": [
    {
     "data": {
      "text/plain": [
       "datetime.date(2021, 4, 16)"
      ]
     },
     "execution_count": 9,
     "metadata": {},
     "output_type": "execute_result"
    }
   ],
   "source": [
    "max(df_stocks['Date'])"
   ]
  },
  {
   "cell_type": "code",
   "execution_count": 10,
   "metadata": {},
   "outputs": [],
   "source": [
    "#create df only for GME stock\n",
    "df_stock_GME = df_stocks[df_stocks.Stock == 'GME']"
   ]
  },
  {
   "cell_type": "code",
   "execution_count": 11,
   "metadata": {},
   "outputs": [
    {
     "data": {
      "text/plain": [
       "(247, 8)"
      ]
     },
     "execution_count": 11,
     "metadata": {},
     "output_type": "execute_result"
    }
   ],
   "source": [
    "df_stock_GME.shape"
   ]
  },
  {
   "cell_type": "code",
   "execution_count": 12,
   "metadata": {},
   "outputs": [
    {
     "data": {
      "text/plain": [
       "datetime.date(2020, 4, 24)"
      ]
     },
     "execution_count": 12,
     "metadata": {},
     "output_type": "execute_result"
    }
   ],
   "source": [
    "min(df_stock_GME['Date'])"
   ]
  },
  {
   "cell_type": "code",
   "execution_count": 13,
   "metadata": {},
   "outputs": [
    {
     "data": {
      "text/plain": [
       "datetime.date(2021, 4, 16)"
      ]
     },
     "execution_count": 13,
     "metadata": {},
     "output_type": "execute_result"
    }
   ],
   "source": [
    "max(df_stock_GME['Date'])"
   ]
  },
  {
   "cell_type": "code",
   "execution_count": 14,
   "metadata": {},
   "outputs": [
    {
     "data": {
      "image/png": "[encoded data removed]",
      "text/plain": [
       "<Figure size 432x288 with 1 Axes>"
      ]
     },
     "metadata": {
      "needs_background": "light"
     },
     "output_type": "display_data"
    }
   ],
   "source": [
    "df_stock_GME.plot( x= 'Date', y = 'Open')\n",
    "pyplot.show()"
   ]
  },
  {
   "cell_type": "markdown",
   "metadata": {},
   "source": [
    "## Explore Sentiment Data"
   ]
  },
  {
   "cell_type": "code",
   "execution_count": 15,
   "metadata": {},
   "outputs": [],
   "source": [
    "#load csv into dataframe\n",
    "df_reddit = pd.read_csv('posts_with_scores_and_ticker.csv')"
   ]
  },
  {
   "cell_type": "code",
   "execution_count": 18,
   "metadata": {},
   "outputs": [],
   "source": [
    "df_reddit = pd.read_csv('test.csv')"
   ]
  },
  {
   "cell_type": "code",
   "execution_count": 16,
   "metadata": {},
   "outputs": [],
   "source": [
    "#convert True/False in stock columns to 1/0\n",
    "df_reddit = df_reddit*1"
   ]
  },
  {
   "cell_type": "code",
   "execution_count": 17,
   "metadata": {},
   "outputs": [
    {
     "data": {
      "text/plain": [
       "(111600, 13)"
      ]
     },
     "execution_count": 17,
     "metadata": {},
     "output_type": "execute_result"
    }
   ],
   "source": [
    "df_reddit.shape"
   ]
  },
  {
   "cell_type": "code",
   "execution_count": 18,
   "metadata": {},
   "outputs": [
    {
     "data": {
      "text/html": [
       "<div>\n",
       "<style scoped>\n",
       "    .dataframe tbody tr th:only-of-type {\n",
       "        vertical-align: middle;\n",
       "    }\n",
       "\n",
       "    .dataframe tbody tr th {\n",
       "        vertical-align: top;\n",
       "    }\n",
       "\n",
       "    .dataframe thead th {\n",
       "        text-align: right;\n",
       "    }\n",
       "</style>\n",
       "<table border=\"1\" class=\"dataframe\">\n",
       "  <thead>\n",
       "    <tr style=\"text-align: right;\">\n",
       "      <th></th>\n",
       "      <th>author</th>\n",
       "      <th>timestamp</th>\n",
       "      <th>id</th>\n",
       "      <th>score</th>\n",
       "      <th>text</th>\n",
       "      <th>scores</th>\n",
       "      <th>compound_score</th>\n",
       "      <th>sentiment</th>\n",
       "      <th>AMC</th>\n",
       "      <th>NAKD</th>\n",
       "      <th>BB</th>\n",
       "      <th>GME</th>\n",
       "      <th>KOSS</th>\n",
       "    </tr>\n",
       "  </thead>\n",
       "  <tbody>\n",
       "    <tr>\n",
       "      <th>0</th>\n",
       "      <td>WTCwrnr</td>\n",
       "      <td>2021-03-17, 10:11:46</td>\n",
       "      <td>m75ago</td>\n",
       "      <td>1</td>\n",
       "      <td>*Processing img uzcczofdfmn61...*\\n\\nCan we he...</td>\n",
       "      <td>{'neg': 0.02, 'neu': 0.831, 'pos': 0.149, 'com...</td>\n",
       "      <td>0.9033</td>\n",
       "      <td>pos</td>\n",
       "      <td>0</td>\n",
       "      <td>0</td>\n",
       "      <td>0</td>\n",
       "      <td>0</td>\n",
       "      <td>0</td>\n",
       "    </tr>\n",
       "    <tr>\n",
       "      <th>1</th>\n",
       "      <td>aresvswrld</td>\n",
       "      <td>2021-03-17, 10:11:24</td>\n",
       "      <td>m75a5u</td>\n",
       "      <td>1</td>\n",
       "      <td>I currently use Robinhood, and I have been for...</td>\n",
       "      <td>{'neg': 0.048, 'neu': 0.891, 'pos': 0.061, 'co...</td>\n",
       "      <td>0.1531</td>\n",
       "      <td>pos</td>\n",
       "      <td>0</td>\n",
       "      <td>0</td>\n",
       "      <td>0</td>\n",
       "      <td>1</td>\n",
       "      <td>0</td>\n",
       "    </tr>\n",
       "  </tbody>\n",
       "</table>\n",
       "</div>"
      ],
      "text/plain": [
       "       author             timestamp      id  score  \\\n",
       "0     WTCwrnr  2021-03-17, 10:11:46  m75ago      1   \n",
       "1  aresvswrld  2021-03-17, 10:11:24  m75a5u      1   \n",
       "\n",
       "                                                text  \\\n",
       "0  *Processing img uzcczofdfmn61...*\\n\\nCan we he...   \n",
       "1  I currently use Robinhood, and I have been for...   \n",
       "\n",
       "                                              scores  compound_score  \\\n",
       "0  {'neg': 0.02, 'neu': 0.831, 'pos': 0.149, 'com...          0.9033   \n",
       "1  {'neg': 0.048, 'neu': 0.891, 'pos': 0.061, 'co...          0.1531   \n",
       "\n",
       "  sentiment  AMC  NAKD  BB  GME  KOSS  \n",
       "0       pos    0     0   0    0     0  \n",
       "1       pos    0     0   0    1     0  "
      ]
     },
     "execution_count": 18,
     "metadata": {},
     "output_type": "execute_result"
    }
   ],
   "source": [
    "df_reddit.head(2)"
   ]
  },
  {
   "cell_type": "code",
   "execution_count": 19,
   "metadata": {},
   "outputs": [
    {
     "data": {
      "text/plain": [
       "author             object\n",
       "timestamp          object\n",
       "id                 object\n",
       "score               int64\n",
       "text               object\n",
       "scores             object\n",
       "compound_score    float64\n",
       "sentiment          object\n",
       "AMC                 int32\n",
       "NAKD                int32\n",
       "BB                  int32\n",
       "GME                 int32\n",
       "KOSS                int32\n",
       "dtype: object"
      ]
     },
     "execution_count": 19,
     "metadata": {},
     "output_type": "execute_result"
    }
   ],
   "source": [
    "df_reddit.dtypes"
   ]
  },
  {
   "cell_type": "code",
   "execution_count": 20,
   "metadata": {},
   "outputs": [
    {
     "data": {
      "text/plain": [
       "'2020-08-14, 16:32:54'"
      ]
     },
     "execution_count": 20,
     "metadata": {},
     "output_type": "execute_result"
    }
   ],
   "source": [
    "min(df_reddit['timestamp'])"
   ]
  },
  {
   "cell_type": "code",
   "execution_count": 21,
   "metadata": {},
   "outputs": [
    {
     "data": {
      "text/plain": [
       "'2021-03-17, 10:11:46'"
      ]
     },
     "execution_count": 21,
     "metadata": {},
     "output_type": "execute_result"
    }
   ],
   "source": [
    "max(df_reddit['timestamp'])"
   ]
  },
  {
   "cell_type": "code",
   "execution_count": 22,
   "metadata": {},
   "outputs": [],
   "source": [
    "# convert timestamp into date time\n",
    "df_reddit['timestamp'] = pd.to_datetime(df_reddit['timestamp'], errors='coerce')"
   ]
  },
  {
   "cell_type": "code",
   "execution_count": 31,
   "metadata": {},
   "outputs": [],
   "source": [
    "# save only date from the date time\n",
    "df_reddit['timestamp'] = df_reddit['timestamp'].dt.date"
   ]
  },
  {
   "cell_type": "code",
   "execution_count": 32,
   "metadata": {},
   "outputs": [
    {
     "data": {
      "text/plain": [
       "author             object\n",
       "timestamp          object\n",
       "id                 object\n",
       "score               int64\n",
       "text               object\n",
       "scores             object\n",
       "compound_score    float64\n",
       "sentiment          object\n",
       "AMC                 int32\n",
       "NAKD                int32\n",
       "BB                  int32\n",
       "GME                 int32\n",
       "KOSS                int32\n",
       "dtype: object"
      ]
     },
     "execution_count": 32,
     "metadata": {},
     "output_type": "execute_result"
    }
   ],
   "source": [
    "df_reddit.dtypes"
   ]
  },
  {
   "cell_type": "markdown",
   "metadata": {},
   "source": [
    "## Create Sentiment Timeseries for GME"
   ]
  },
  {
   "cell_type": "code",
   "execution_count": 33,
   "metadata": {},
   "outputs": [],
   "source": [
    "#create df only for GME\n",
    "df_reddit_GME = df_reddit[df_reddit.GME == 1]"
   ]
  },
  {
   "cell_type": "code",
   "execution_count": 34,
   "metadata": {},
   "outputs": [
    {
     "data": {
      "text/plain": [
       "(24213, 13)"
      ]
     },
     "execution_count": 34,
     "metadata": {},
     "output_type": "execute_result"
    }
   ],
   "source": [
    "df_reddit_GME.shape"
   ]
  },
  {
   "cell_type": "code",
   "execution_count": 35,
   "metadata": {},
   "outputs": [
    {
     "data": {
      "text/plain": [
       "author             object\n",
       "timestamp          object\n",
       "id                 object\n",
       "score               int64\n",
       "text               object\n",
       "scores             object\n",
       "compound_score    float64\n",
       "sentiment          object\n",
       "AMC                 int32\n",
       "NAKD                int32\n",
       "BB                  int32\n",
       "GME                 int32\n",
       "KOSS                int32\n",
       "dtype: object"
      ]
     },
     "execution_count": 35,
     "metadata": {},
     "output_type": "execute_result"
    }
   ],
   "source": [
    "df_reddit_GME.dtypes"
   ]
  },
  {
   "cell_type": "code",
   "execution_count": 36,
   "metadata": {},
   "outputs": [
    {
     "data": {
      "text/html": [
       "<div>\n",
       "<style scoped>\n",
       "    .dataframe tbody tr th:only-of-type {\n",
       "        vertical-align: middle;\n",
       "    }\n",
       "\n",
       "    .dataframe tbody tr th {\n",
       "        vertical-align: top;\n",
       "    }\n",
       "\n",
       "    .dataframe thead th {\n",
       "        text-align: right;\n",
       "    }\n",
       "</style>\n",
       "<table border=\"1\" class=\"dataframe\">\n",
       "  <thead>\n",
       "    <tr style=\"text-align: right;\">\n",
       "      <th></th>\n",
       "      <th>author</th>\n",
       "      <th>timestamp</th>\n",
       "      <th>id</th>\n",
       "      <th>score</th>\n",
       "      <th>text</th>\n",
       "      <th>scores</th>\n",
       "      <th>compound_score</th>\n",
       "      <th>sentiment</th>\n",
       "      <th>AMC</th>\n",
       "      <th>NAKD</th>\n",
       "      <th>BB</th>\n",
       "      <th>GME</th>\n",
       "      <th>KOSS</th>\n",
       "    </tr>\n",
       "  </thead>\n",
       "  <tbody>\n",
       "    <tr>\n",
       "      <th>1</th>\n",
       "      <td>aresvswrld</td>\n",
       "      <td>2021-03-17</td>\n",
       "      <td>m75a5u</td>\n",
       "      <td>1</td>\n",
       "      <td>I currently use Robinhood, and I have been for...</td>\n",
       "      <td>{'neg': 0.048, 'neu': 0.891, 'pos': 0.061, 'co...</td>\n",
       "      <td>0.1531</td>\n",
       "      <td>pos</td>\n",
       "      <td>0</td>\n",
       "      <td>0</td>\n",
       "      <td>0</td>\n",
       "      <td>1</td>\n",
       "      <td>0</td>\n",
       "    </tr>\n",
       "    <tr>\n",
       "      <th>15</th>\n",
       "      <td>bosshax</td>\n",
       "      <td>2021-03-17</td>\n",
       "      <td>m74p9p</td>\n",
       "      <td>1</td>\n",
       "      <td>**Short Interest report from S3 Partners updat...</td>\n",
       "      <td>{'neg': 0.08, 'neu': 0.815, 'pos': 0.104, 'com...</td>\n",
       "      <td>0.8865</td>\n",
       "      <td>pos</td>\n",
       "      <td>1</td>\n",
       "      <td>0</td>\n",
       "      <td>1</td>\n",
       "      <td>1</td>\n",
       "      <td>0</td>\n",
       "    </tr>\n",
       "    <tr>\n",
       "      <th>31</th>\n",
       "      <td>Far-Opportunity2942</td>\n",
       "      <td>2021-03-17</td>\n",
       "      <td>m74b9i</td>\n",
       "      <td>1</td>\n",
       "      <td>Do you all lack perspective? GME was $5-$10 fo...</td>\n",
       "      <td>{'neg': 0.139, 'neu': 0.809, 'pos': 0.052, 'co...</td>\n",
       "      <td>-0.7621</td>\n",
       "      <td>neg</td>\n",
       "      <td>0</td>\n",
       "      <td>0</td>\n",
       "      <td>0</td>\n",
       "      <td>1</td>\n",
       "      <td>0</td>\n",
       "    </tr>\n",
       "  </tbody>\n",
       "</table>\n",
       "</div>"
      ],
      "text/plain": [
       "                 author   timestamp      id  score  \\\n",
       "1            aresvswrld  2021-03-17  m75a5u      1   \n",
       "15              bosshax  2021-03-17  m74p9p      1   \n",
       "31  Far-Opportunity2942  2021-03-17  m74b9i      1   \n",
       "\n",
       "                                                 text  \\\n",
       "1   I currently use Robinhood, and I have been for...   \n",
       "15  **Short Interest report from S3 Partners updat...   \n",
       "31  Do you all lack perspective? GME was $5-$10 fo...   \n",
       "\n",
       "                                               scores  compound_score  \\\n",
       "1   {'neg': 0.048, 'neu': 0.891, 'pos': 0.061, 'co...          0.1531   \n",
       "15  {'neg': 0.08, 'neu': 0.815, 'pos': 0.104, 'com...          0.8865   \n",
       "31  {'neg': 0.139, 'neu': 0.809, 'pos': 0.052, 'co...         -0.7621   \n",
       "\n",
       "   sentiment  AMC  NAKD  BB  GME  KOSS  \n",
       "1        pos    0     0   0    1     0  \n",
       "15       pos    1     0   1    1     0  \n",
       "31       neg    0     0   0    1     0  "
      ]
     },
     "execution_count": 36,
     "metadata": {},
     "output_type": "execute_result"
    }
   ],
   "source": [
    "df_reddit_GME.head(3)"
   ]
  },
  {
   "cell_type": "code",
   "execution_count": 59,
   "metadata": {},
   "outputs": [],
   "source": [
    "#create df aggregated by daily sentiment\n",
    "df_daily_reddit_GME = df_reddit_GME.groupby(\"timestamp\").agg({'id': lambda x: list(x), 'timestamp': lambda x:x.value_counts().index[0], 'compound_score': np.mean, 'sentiment': lambda x:x.value_counts().index[0]})"
   ]
  },
  {
   "cell_type": "code",
   "execution_count": 60,
   "metadata": {},
   "outputs": [
    {
     "data": {
      "text/plain": [
       "(188, 4)"
      ]
     },
     "execution_count": 60,
     "metadata": {},
     "output_type": "execute_result"
    }
   ],
   "source": [
    "df_daily_reddit_GME.shape"
   ]
  },
  {
   "cell_type": "code",
   "execution_count": 61,
   "metadata": {},
   "outputs": [
    {
     "data": {
      "text/html": [
       "<div>\n",
       "<style scoped>\n",
       "    .dataframe tbody tr th:only-of-type {\n",
       "        vertical-align: middle;\n",
       "    }\n",
       "\n",
       "    .dataframe tbody tr th {\n",
       "        vertical-align: top;\n",
       "    }\n",
       "\n",
       "    .dataframe thead th {\n",
       "        text-align: right;\n",
       "    }\n",
       "</style>\n",
       "<table border=\"1\" class=\"dataframe\">\n",
       "  <thead>\n",
       "    <tr style=\"text-align: right;\">\n",
       "      <th></th>\n",
       "      <th>id</th>\n",
       "      <th>timestamp</th>\n",
       "      <th>compound_score</th>\n",
       "      <th>sentiment</th>\n",
       "    </tr>\n",
       "    <tr>\n",
       "      <th>timestamp</th>\n",
       "      <th></th>\n",
       "      <th></th>\n",
       "      <th></th>\n",
       "      <th></th>\n",
       "    </tr>\n",
       "  </thead>\n",
       "  <tbody>\n",
       "    <tr>\n",
       "      <th>2020-08-19</th>\n",
       "      <td>[icvdos]</td>\n",
       "      <td>2020-08-19</td>\n",
       "      <td>0.620100</td>\n",
       "      <td>pos</td>\n",
       "    </tr>\n",
       "    <tr>\n",
       "      <th>2020-08-21</th>\n",
       "      <td>[idzxo2]</td>\n",
       "      <td>2020-08-21</td>\n",
       "      <td>-0.847500</td>\n",
       "      <td>neg</td>\n",
       "    </tr>\n",
       "    <tr>\n",
       "      <th>2020-08-28</th>\n",
       "      <td>[iihrzw]</td>\n",
       "      <td>2020-08-28</td>\n",
       "      <td>0.458800</td>\n",
       "      <td>pos</td>\n",
       "    </tr>\n",
       "    <tr>\n",
       "      <th>2020-08-29</th>\n",
       "      <td>[iiurvc]</td>\n",
       "      <td>2020-08-29</td>\n",
       "      <td>-0.714900</td>\n",
       "      <td>neg</td>\n",
       "    </tr>\n",
       "    <tr>\n",
       "      <th>2020-08-31</th>\n",
       "      <td>[ikeagj, ik4l0t, ik3cdx]</td>\n",
       "      <td>2020-08-31</td>\n",
       "      <td>0.404267</td>\n",
       "      <td>pos</td>\n",
       "    </tr>\n",
       "    <tr>\n",
       "      <th>2020-09-01</th>\n",
       "      <td>[ikpgw9]</td>\n",
       "      <td>2020-09-01</td>\n",
       "      <td>0.947800</td>\n",
       "      <td>pos</td>\n",
       "    </tr>\n",
       "    <tr>\n",
       "      <th>2020-09-02</th>\n",
       "      <td>[ilo6ex, ilny3c, ilg6ub, ildjgf, il8ywe, il4wp1]</td>\n",
       "      <td>2020-09-02</td>\n",
       "      <td>0.579917</td>\n",
       "      <td>pos</td>\n",
       "    </tr>\n",
       "    <tr>\n",
       "      <th>2020-09-03</th>\n",
       "      <td>[im3iew]</td>\n",
       "      <td>2020-09-03</td>\n",
       "      <td>-0.726900</td>\n",
       "      <td>neg</td>\n",
       "    </tr>\n",
       "    <tr>\n",
       "      <th>2020-09-05</th>\n",
       "      <td>[in7o79, in2ez0]</td>\n",
       "      <td>2020-09-05</td>\n",
       "      <td>0.666200</td>\n",
       "      <td>pos</td>\n",
       "    </tr>\n",
       "    <tr>\n",
       "      <th>2020-09-08</th>\n",
       "      <td>[ip9h13, ip2agm, iowtbm]</td>\n",
       "      <td>2020-09-08</td>\n",
       "      <td>0.292867</td>\n",
       "      <td>pos</td>\n",
       "    </tr>\n",
       "  </tbody>\n",
       "</table>\n",
       "</div>"
      ],
      "text/plain": [
       "                                                          id   timestamp  \\\n",
       "timestamp                                                                  \n",
       "2020-08-19                                          [icvdos]  2020-08-19   \n",
       "2020-08-21                                          [idzxo2]  2020-08-21   \n",
       "2020-08-28                                          [iihrzw]  2020-08-28   \n",
       "2020-08-29                                          [iiurvc]  2020-08-29   \n",
       "2020-08-31                          [ikeagj, ik4l0t, ik3cdx]  2020-08-31   \n",
       "2020-09-01                                          [ikpgw9]  2020-09-01   \n",
       "2020-09-02  [ilo6ex, ilny3c, ilg6ub, ildjgf, il8ywe, il4wp1]  2020-09-02   \n",
       "2020-09-03                                          [im3iew]  2020-09-03   \n",
       "2020-09-05                                  [in7o79, in2ez0]  2020-09-05   \n",
       "2020-09-08                          [ip9h13, ip2agm, iowtbm]  2020-09-08   \n",
       "\n",
       "            compound_score sentiment  \n",
       "timestamp                             \n",
       "2020-08-19        0.620100       pos  \n",
       "2020-08-21       -0.847500       neg  \n",
       "2020-08-28        0.458800       pos  \n",
       "2020-08-29       -0.714900       neg  \n",
       "2020-08-31        0.404267       pos  \n",
       "2020-09-01        0.947800       pos  \n",
       "2020-09-02        0.579917       pos  \n",
       "2020-09-03       -0.726900       neg  \n",
       "2020-09-05        0.666200       pos  \n",
       "2020-09-08        0.292867       pos  "
      ]
     },
     "execution_count": 61,
     "metadata": {},
     "output_type": "execute_result"
    }
   ],
   "source": [
    "df_daily_reddit_GME.head(10)"
   ]
  },
  {
   "cell_type": "code",
   "execution_count": 62,
   "metadata": {},
   "outputs": [
    {
     "data": {
      "image/png": "[encoded data removed]",
      "text/plain": [
       "<Figure size 432x288 with 1 Axes>"
      ]
     },
     "metadata": {
      "needs_background": "light"
     },
     "output_type": "display_data"
    }
   ],
   "source": [
    "df_daily_reddit_GME.plot(x = 'timestamp', y = 'compound_score')\n",
    "pyplot.show()"
   ]
  }
 ],
 "metadata": {
  "kernelspec": {
   "display_name": "Python 3",
   "language": "python",
   "name": "python3"
  },
  "language_info": {
   "codemirror_mode": {
    "name": "ipython",
    "version": 3
   },
   "file_extension": ".py",
   "mimetype": "text/x-python",
   "name": "python",
   "nbconvert_exporter": "python",
   "pygments_lexer": "ipython3",
   "version": "3.7.3"
  }
 },
 "nbformat": 4,
 "nbformat_minor": 4
}
